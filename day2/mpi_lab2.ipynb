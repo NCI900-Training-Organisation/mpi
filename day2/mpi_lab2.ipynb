{
 "cells": [
  {
   "cell_type": "markdown",
   "metadata": {},
   "source": [
    "# Introduction to MPI - Day 2"
   ]
  },
  {
   "cell_type": "markdown",
   "metadata": {},
   "source": [
    "## 1. Collective Communication\n",
    "\n",
    "In the previous program, the local residuals were calculated on each MPI process and reduced to the root process (the rank 0 process) by reduction operation `MPI_SUM`.\n",
    "```cpp\n",
    "double tot_res;\n",
    "residual  = local_L2_residual(ptr_rows, mesh_size, space, &submesh[0][0], &subrhs[0][0]);\n",
    "MPI_Reduce(&residual, &tot_res, 1, MPI_DOUBLE, MPI_SUM, 0, world);\n",
    "```\n",
    "\n",
    "It is recommended but not required from MPI Standard 4.0 that the same order is maintained for the reduction operation whenever the same arguments are applied to the function. For operations that a specific ordering is significant, one may consider use `MPI_Gather` to collect data to a single process before a local reduction operation.\n"
   ]
  },
  {
   "cell_type": "markdown",
   "metadata": {},
   "source": [
    "**`TODO`**: In [lapalce_mpi_collective.c](./laplace_mpi_collective.c), replace the `MPI_Reduce` function with `MPI_Gather` and sum up residuals on the root process. Once you are finished run the next cell. If you are stuck, peek the solution at [soln_laplace_mpi_collective.c](./solution/laplace_mpi_collective.c)"
   ]
  },
  {
   "cell_type": "code",
   "execution_count": 2,
   "metadata": {},
   "outputs": [
    {
     "name": "stdout",
     "output_type": "stream",
     "text": [
      "rm -f *.o laplace_mpi_win\n",
      "mpicc -g -Wall -O3 -lm -o laplace_mpi_collective laplace_mpi_collective.c mesh.c solver.c\n",
      "\u001b[01m\u001b[Klaplace_mpi_collective.c:\u001b[m\u001b[K In function ‘\u001b[01m\u001b[Kmain\u001b[m\u001b[K’:\n",
      "\u001b[01m\u001b[Klaplace_mpi_collective.c:159:21:\u001b[m\u001b[K \u001b[01;35m\u001b[Kwarning: \u001b[m\u001b[Kunused variable ‘\u001b[01m\u001b[Ktot_res\u001b[m\u001b[K’ [\u001b[01;35m\u001b[K\u001b]8;;https://gcc.gnu.org/onlinedocs/gcc/Warning-Options.html#index-Wunused-variable\u0007-Wunused-variable\u001b]8;;\u0007\u001b[m\u001b[K]\n",
      "  159 |     double residual,\u001b[01;35m\u001b[Ktot_res\u001b[m\u001b[K;\n",
      "      |                     \u001b[01;35m\u001b[K^~~~~~~\u001b[m\u001b[K\n",
      "\u001b[01m\u001b[Klaplace_mpi_collective.c:147:5:\u001b[m\u001b[K \u001b[01;35m\u001b[Kwarning: \u001b[m\u001b[Kunused variable ‘\u001b[01m\u001b[Kindex\u001b[m\u001b[K’ [\u001b[01;35m\u001b[K\u001b]8;;https://gcc.gnu.org/onlinedocs/gcc/Warning-Options.html#index-Wunused-variable\u0007-Wunused-variable\u001b]8;;\u0007\u001b[m\u001b[K]\n",
      "  147 | int \u001b[01;35m\u001b[Kindex\u001b[m\u001b[K, top_flag, bottom_flag;\n",
      "      |     \u001b[01;35m\u001b[K^~~~~\u001b[m\u001b[K\n",
      "Compilation Successful!\n",
      "Residual1  0.075272\n",
      "Residual1  0.075234\n",
      "Residual1  0.075196\n",
      "Residual1  0.075158\n",
      "Residual1  0.075120\n",
      "Residual1  0.075082\n",
      "Residual1  0.075045\n",
      "Residual1  0.075007\n",
      "Residual1  0.074969\n",
      "Residual1  0.074931\n",
      "Residual1  0.074894\n",
      "Residual1  0.074856\n",
      "Residual1  0.074818\n",
      "Residual1  0.074780\n",
      "Residual1  0.074743\n",
      "Residual1  0.074705\n",
      "Residual1  0.074668\n",
      "Residual1  0.074630\n",
      "Residual1  0.077502\n",
      "size 8size 8size 8size 8size 8size 8size 8size 8"
     ]
    }
   ],
   "source": [
    "!cd ./solution && make clean && make collective && echo \"Compilation Successful!\" && mpiexec -np 8 ./laplace_mpi_collective 100 500 Jacobi > convergence_collective.txt\n",
    "!cd ./solution && tail -20 convergence_collective.txt "
   ]
  },
  {
   "cell_type": "markdown",
   "metadata": {},
   "source": [
    "## 2. One-sided Communication\n",
    "\n",
    "The mechanism of one-sided communication (aka remote memory access) proposes an entirely different comunication pattern than the message-passing examples that we have seen. There are no senders and receivers involved in this pattern, meaning, messages do not need to match before the transfer. Instead, by creating a memory object called window at the target in which the memory window is accessed, the origin, in which the call is performed, can put data to and get data from that window followed by whatever local load/store operations.\n",
    "\n",
    "In our example [laplace_mpi_win.c](./laplace_mpi_win.c), each MPI process is used as both the origin and the target - when the window is created and exposed, it is treated as the target, when an RMA call is performed, it is the origin. \n",
    "\n",
    "`As the target`, two window objects are created with separate allocated memory in an MPI process, one for the top row of ghost nodes, the other for the bottom row of ghost nodes.\n",
    "```cpp\n",
    "MPI_Win upper_win, lower_win;\n",
    "double *upper_bnd, *lower_bnd;\n",
    "/* win for the top row of ghost nodes */\n",
    "MPI_Alloc_mem(sizeof(double )*mesh_size, MPI_INFO_NULL, &upper_bnd);\n",
    "MPI_Win_create(upper_bnd, mesh_size *sizeof(double), sizeof(double),\\\n",
    "               MPI_INFO_NULL, MPI_COMM_WORLD, &upper_win);\n",
    "\n",
    "/* win for the bottom row of ghost nodes */\n",
    "MPI_Alloc_mem(sizeof(double )*mesh_size, MPI_INFO_NULL, &lower_bnd);\n",
    "MPI_Win_create(lower_bnd, mesh_size *sizeof(double), sizeof(double),\\\n",
    "               MPI_INFO_NULL, MPI_COMM_WORLD, &lower_win); \n",
    "```\n",
    "\n",
    "`As the origin`, the MPI process is very much like the sender doing `MPI_Send`, it needs to transfer out the top and bottom full nodes for the neighbouring processes to update their ghost nodes, however, this is done by using `MPI_Put`.\n",
    "\n",
    "```cpp\n",
    "/* put the bottom row of full nodes to the rank below */\n",
    "MPI_Put(submesh[1], mesh_size, MPI_DOUBLE, lower, 0, mesh_size, MPI_DOUBLE, upper_win);\n",
    "\n",
    "/* put the top row of full nodes to the rank above */\n",
    "MPI_Put(submesh[*ptr_rows - 2], mesh_size, MPI_DOUBLE, upper, 0, mesh_size, MPI_DOUBLE, lower_win);   \n",
    "```\n",
    "\n",
    "Next, after completing the RMA operation the same MPI process needs to load/store data from its window object to update its own ghost nodes. This makes it the `target`.\n",
    "\n",
    "```cpp\n",
    "/* update the full bottom and top of submesh */\n",
    "if (rank > 0 && rank < (cells -1)){\n",
    "    for (int i=0; i< mesh_size; i++){\n",
    "        submesh[0][i] = lower_bnd[i]; /* bottom */\n",
    "        submesh[*ptr_rows-1][i] = upper_bnd[i]; /* top */            \n",
    "}\n",
    "}\n",
    "else if (rank ==0 ){ /* bottom rank only updates its top full row */\n",
    "    for (int i = 0; i< mesh_size; i++ ){\n",
    "\n",
    "        submesh[*ptr_rows-1][i] = upper_bnd[i];\n",
    "    }\n",
    "}\n",
    "\n",
    "else if (rank == (cells -1) ){ /* top rank only updates its bottom full row */ \n",
    "    for (int i = 0; i <mesh_size; i++){\n",
    "        submesh[0][i] = lower_bnd[i];\n",
    "    }\n",
    "}\n",
    "```\n",
    "\n",
    "Notice that the transition for this MPI proceess \n",
    "$$Origin \\to Target \\to Origin$$\n",
    "where each phase is concluded by a sychronisation call `MPI_Win_fence`.\n",
    "\n",
    "Again, the window object doesn't have to match with a RMA operation `MPI_Put`. In contrast, it is designed to be exposed by multiple meessages from any process in the communicator group."
   ]
  },
  {
   "cell_type": "markdown",
   "metadata": {},
   "source": [
    "**`TODO`**: Replace the two window objects in [laplace_mpi_win.c](./solution/laplace_mpi_win.c) with a single window object. Use this window object to host both top and bottom ghost nodes for the neighbouring processes' access. Once you are finished run the next cell. If you are stuck, peek the solution at [soln_laplace_mpi_win.c](./solution/laplace_mpi_win.c)"
   ]
  },
  {
   "cell_type": "code",
   "execution_count": 3,
   "metadata": {},
   "outputs": [
    {
     "name": "stdout",
     "output_type": "stream",
     "text": [
      "rm -f *.o laplace_mpi_win\n",
      "mpicc -g -Wall -O3 -lm -o laplace_mpi_win laplace_mpi_win.c mesh.c solver.c\n",
      "Compilation Successful!\n",
      "[WARNING] yaksa: 1 leaked handle pool objects\n",
      "[WARNING] yaksa: 1 leaked handle pool objects\n",
      "[WARNING] yaksa: 1 leaked handle pool objects\n",
      "[WARNING] yaksa: 1 leaked handle pool objects\n",
      "[WARNING] yaksa: 1 leaked handle pool objects\n",
      "[WARNING] yaksa: 1 leaked handle pool objects\n",
      "[WARNING] yaksa: 1 leaked handle pool objects\n",
      "[WARNING] yaksa: 1 leaked handle pool objects\n",
      "Residual1  0.075310\n",
      "Residual1  0.075272\n",
      "Residual1  0.075234\n",
      "Residual1  0.075196\n",
      "Residual1  0.075158\n",
      "Residual1  0.075120\n",
      "Residual1  0.075082\n",
      "Residual1  0.075045\n",
      "Residual1  0.075007\n",
      "Residual1  0.074969\n",
      "Residual1  0.074931\n",
      "Residual1  0.074894\n",
      "Residual1  0.074856\n",
      "Residual1  0.074818\n",
      "Residual1  0.074780\n",
      "Residual1  0.074743\n",
      "Residual1  0.074705\n",
      "Residual1  0.074668\n",
      "Residual1  0.074630\n",
      "Residual1  0.077502\n"
     ]
    }
   ],
   "source": [
    "!cd ./solution && make clean && make win && echo \"Compilation Successful!\" && mpiexec -np 8 ./laplace_mpi_win 100 500 Jacobi > convergence_win.txt\n",
    "!cd ./solution && tail -20 convergence_win.txt "
   ]
  },
  {
   "cell_type": "markdown",
   "metadata": {},
   "source": [
    "## 3. MPI-IO\n",
    "\n",
    "After the iterative method is terminated with an acceptable magnitude of the error, we want to write the approximation over the unit square domain for the visualisation, validation and whatnots. The question now is the following: each MPI process only possesses a subdomain so how to merge the data to a common file?\n",
    "\n",
    "Traditionally, one may either send all the subdomains to a root process, such is called master-slave communication mode, or output each individual subdomains for a different program to scan and combine.\n",
    "\n",
    "MPI-IO provides the ability for multiple MPI processes to write into a common file. The basic MPI-IO procedures resembles with the POSIX IO:\n",
    "```cpp\n",
    "/* Open a file */\n",
    "MPI_File_open(MPI_COMM_WORLD, file_name, MPI_MODE_CREATE|MPI_MODE_WRONLY, MPI_INFO_NULL, &fp);\n",
    "\n",
    "/* Write to a file */\n",
    "MPI_File_write_at(fp, offset, &submesh[1][0], count, MPI_DOUBLE, &IO_status );\n",
    "\n",
    "/* Close a file */\n",
    "MPI_File_close(&fp);\n",
    "\n",
    "```\n",
    "Each process starts to write at the offset position of the common file. It is the programmer's responsibility to ensure the offset is set correctly."
   ]
  },
  {
   "cell_type": "markdown",
   "metadata": {},
   "source": [
    "**`TODO`**: Completes the output routine for middle rank MPI processes in [laplace_mpi_io.c](./solution/laplace_mpi_io.c). Once you are finished run the next cell. If you are stuck, peek the solution at [soln_laplace_mpi_io.c](./solution/laplace_mpi_io.c)"
   ]
  },
  {
   "cell_type": "code",
   "execution_count": 4,
   "metadata": {},
   "outputs": [
    {
     "name": "stdout",
     "output_type": "stream",
     "text": [
      "rm -f *.o laplace_mpi_win\n",
      "mpicc -g -Wall -O3 -lm -o laplace_mpi_io laplace_mpi_io.c mesh.c solver.c\n",
      "\u001b[01m\u001b[Klaplace_mpi_io.c:\u001b[m\u001b[K In function ‘\u001b[01m\u001b[Kmain\u001b[m\u001b[K’:\n",
      "\u001b[01m\u001b[Klaplace_mpi_io.c:226:12:\u001b[m\u001b[K \u001b[01;35m\u001b[Kwarning: \u001b[m\u001b[Kunused variable ‘\u001b[01m\u001b[Kw_count\u001b[m\u001b[K’ [\u001b[01;35m\u001b[K\u001b]8;;https://gcc.gnu.org/onlinedocs/gcc/Warning-Options.html#index-Wunused-variable\u0007-Wunused-variable\u001b]8;;\u0007\u001b[m\u001b[K]\n",
      "  226 | int count, \u001b[01;35m\u001b[Kw_count\u001b[m\u001b[K ;\n",
      "      |            \u001b[01;35m\u001b[K^~~~~~~\u001b[m\u001b[K\n",
      "Compilation Successful!\n",
      "[WARNING] yaksa: 1 leaked handle pool objects\n",
      "[WARNING] yaksa: 1 leaked handle pool objects\n",
      "[WARNING] yaksa: 1 leaked handle pool objects\n",
      "[WARNING] yaksa: 1 leaked handle pool objects\n",
      "Residual  0.010330 after iter 482 \n",
      "Residual  0.010255 after iter 483 \n",
      "Residual  0.010180 after iter 484 \n",
      "Residual  0.010106 after iter 485 \n",
      "Residual  0.010032 after iter 486 \n",
      "Residual  0.009959 after iter 487 \n",
      "Residual  0.009886 after iter 488 \n",
      "Residual  0.009814 after iter 489 \n",
      "Residual  0.009743 after iter 490 \n",
      "Residual  0.009672 after iter 491 \n",
      "Residual  0.009601 after iter 492 \n",
      "Residual  0.009531 after iter 493 \n",
      "Residual  0.009462 after iter 494 \n",
      "Residual  0.009393 after iter 495 \n",
      "Residual  0.009324 after iter 496 \n",
      "Residual  0.009256 after iter 497 \n",
      "Residual  0.009189 after iter 498 \n",
      "Residual  0.009122 after iter 499 \n",
      "Residual  0.009055 after iter 500 \n",
      "Residual1  0.009779\n",
      "\u0000\u0000\u0000\u0000\u0000\u0000\u0000\u0000\u0000\u0000\u0000\u0000\u0000\u0000\u0000\u0000\u0000\u0000\u0000\u0000\u0000\u0000\u0000\u0000\u0000\u0000\u0000\u0000\u0000\u0000\u0000\u0000\u0000\u0000\u0000\u0000\u0000\u0000\u0000\u0000\u0000\u0000\u0000\u0000\u0000\u0000\u0000\u0000\u0000\u0000\u0000\u0000\u0000\u0000\u0000\u0000\u0000\u0000\u0000\u0000\u0000\u0000\u0000\u0000\u0000\u0000\u0000\u0000\u0000\u0000\u0000\u0000\u0000\u0000\u0000\u0000\u0000\u0000\u0000\u0000\u0000\u0000\u0000\u0000\u0000\u0000\u0000\u0000\u0000\u0000\u0000\u0000\u0000\u0000\u0000\u0000\u0000\u0000\u0000\u0000\u0000\u0000\u0000\u0000\u0000\u0000\u0000\u0000\u0000\u0000\u0000\u0000\u0000\u0000\u0000\u0000\u0000\u0000\u0000\u0000\u0000\u0000\u0000\u0000\u0000\u0000\u0000\u0000\u0000\u0000\u0000\u0000\u0000\u0000\u0000\u0000\u0000\u0000\u0000\u0000\u0000\u0000\u0000\u0000\u0000\u0000\u0000\u0000\u0000\u0000\u0000\u0000\u0000\u0000\u0000\u0000\u0000\u0000\u0000\u0000\u0000\u0000\u0000\u0000\u0000\u0000\u0000\u0000\u0000\u0000\u0000\u0000\u0000\u0000\u0000\u0000\u0000\u0000\u0000\u0000\u0000\u0000\u0000\u0000\u0000\u0000\u0000\u0000\u0000\u0000\u0000\u0000\u0000\u0000\u0000\u0000\u0000\u0000\u0000\u0000\u0000\u0000\u0000\u0000\u0000\u0000\u0000\u0000\u0000\u0000\u0000\u0000\u0000\u0000\u0000�\u0000\u0000\u0000\u0000\u0000\u0000\u0000\u0000�\u001e2M�ō?���J\u0012��?v\u001b<�~�?MN4\u00157��?�3\u0014�牱?���:y�?��=\u0012 \u001c�?��\u001f�h�?�n���V�?\u001fi�&=޼?�|Q�0��?-}��;��?aT���߾?-}��;��?�|Q�0��?\u001di�&=޼?�n���V�?��\u001f�h�?��=\u0012 \u001c�?~���:y�?�3\u0014�牱?KN4\u00157��?s\u001b<�~�?���J\u0012��?�\u001e2M�ō?ZG��\u0014Y��\u0000\u0000\u0000\u0000\u0000\u0000\u0000\u0000���J\u0012��?+��\u0001�V�?��I\u001d���?�A2*�|�?�\t:*+i�?�ܨ�\u0003S�?���t���?\\z��R9�?\u0002�X�~#�?�u�\u000f[��?%s�t<��?�聋\u0006m�?-}��;��?�聋\u0006m�?$s�t<��?�u�\u000f[��?\u0000�X�~#�?Zz��R9�?���t���?�ܨ�\u0003S�?�\t:*+i�?�A2*�|�?��I\u001d���?#��\u0001�V�?���J\u0012��?��T0^/��\u0000\u0000\u0000\u0000\u0000\u0000\u0000\u0000v\u001b<�~�?��I\u001d���?�B�٭\u001a�?\t��s�\u001a�?��7�c��?F�#:�\u001d�?*�:V#��?��\"\u0004\u000e��?m\u001c��5\u001b�?̝cBN;�?\u0007P��$\f�?��%+���?�S�h\u000f��?��%+���?\u0006P��$\f�?˝cBN;�?l\u001c��5\u001b�?��\"\u0004\u000e��?(�:V#��?D�#:�\u001d�?��7�c��?\u0007��s�\u001a�?�B�٭\u001a�?��I\u001d���?j\u001b<�~�?\f\u0015\u001cM�o��\u0000\u0000\u0000\u0000\u0000\u0000\u0000\u0000MN4\u00157��?�A2*�|�?\t��s�\u001a�?�\u0005\u000b㽨�?>½����?�M\u00024ӻ�?k���TF�?i)Oy�}�?�\u0018���Y�?��6�,��?\u0016�\u001a3���?F��Ͱ��?%s�t<��?E��Ͱ��?\u0016�\u001a3���?��6�,��?�\u0018���Y�?h)Oy�}�?j���TF�?�M\u00024ӻ�?<½����?�\u0005\u000b㽨�?\u0005��s�\u001a�?�A2*�|�?;N4\u00157��?�\\��U���\u0000\u0000\u0000\u0000\u0000\u0000\u0000\u0000�3\u0014�牱?�\t:*+i�?��7�c��?>½����?��kV\u0000��?�\\u\u000b6\u001f�?׬\u0016W_:�?�������?@��M�\u001a�?\u001b���\u0001�?c�%iܨ�?�+i>6\u000e�?z\u0005Q\u0019)0�?�+i>6\u000e�?a�%iܨ�?\u001a���\u0001�??��M�\u001a�?�������?լ\u0016W_:�?�\\u\u000b6\u001f�?��kV\u0000��?<½����?��7�c��?�\t:*+i�?�3\u0014�牱�\u001fO�T��\u0000\u0000\u0000\u0000\u0000\u0000\u0000\u0000���:y�?�ܨ�\u0003S�?F�#:�\u001d�?�M\u00024ӻ�?�\\u\u000b6\u001f�?�=�y�(�?�{,����?���<+y�?\u0000�\u001bd���?�\u000e�_\u0019��?>i��]��?:��\u001b�\u0013�?̝cBN;�?9��\u001b�\u0013�?>i��]��?�\u000e�_\u0019��?\u0000�\u001bd���?���<+y�?�{,����?�=�y�(�?�\\u\u000b6\u001f�?�M\u00024ӻ�?@�#:�\u001d�?�ܨ�\u0003S�?q���:y�?�L)�����\u0000\u0000\u0000\u0000\u0000\u0000\u0000\u0000��=\u0012 \u001c�?���t���?)�:V#��?k���TF�?׬\u0016W_:�?�{,����?ri\u0016�A��?��q�)��?��kNq8�?#��h�?�<�\u0011�D�?Z۞�u��?�f�\u001d1��?[۞�u��?�<�\u0011�D�?#��h�?��kNq8�?��q�)��?qi\u0016�A��?�{,����?լ\u0016W_:�?i���TF�?&�:V#��?���t���?�=\u0012 \u001c�?9L���X��\u0000\u0000\u0000\u0000\u0000\u0000\u0000\u0000��\u001f�h�?\\z��R9�?��\"\u0004\u000e��?i)Oy�}�?�������?���<+y�?��q�)��?\u0012��߇��?��M��T�?m��\u0000B��?? �\f���?u�B\u0014n(�?�\u0018���Y�?t�B\u0014n(�?@ �\f���?m��\u0000B��?��M��T�?\u0011��߇��?��q�)��?���<+y�?�������?e)Oy�}�?��\"\u0004\u000e��?Tz��R9�?Ӑ�\u001f�h�?��\u0010��\u0012��\u0000\u0000\u0000\u0000\u0000\u0000\u0000\u0000�n���V�?\u0002�X�~#�?n\u001c��5\u001b�?�\u0018���Y�?@��M�\u001a�?\u0002�\u001bd���?��kNq8�?��M��T�?��\u0013�X\u001a�?�\fH�\t��?,�&\u0003Ɔ�?�]-f�$�?�s�\n",
      "�Y�?�]-f�$�?,�&\u0003Ɔ�?�\fH�\t��?��\u0013�X\u001a�?��M��T�?��kNq8�?\u0000�\u001bd���??��M�\u001a�?�\u0018���Y�?j\u001c��5\u001b�?��X�~#�?�n���V�?�N�3X���\u0000\u0000\u0000\u0000\u0000\u0000\u0000\u0000\u001ei�&=޼?�u�\u000f[��?̝cBN;�?��6�,��?\u001c���\u0001�?�\u000e�_\u0019��?$��h�?n��\u0000B��?�\fH�\t��?�w[����?[J��0\u0011�?�5��\u0002��?�������?�5��\u0002��?[J��0\u0011�?�w[����?�\fH�\t��?l��\u0000B��?\"��h�?�\u000e�_\u0019��?\u001a���\u0001�?��6�,��?ȝcBN;�?�u�\u000f[��?\u000bi�&=޼?zc\u000b�a���\u0000\u0000\u0000\u0000\u0000\u0000\u0000\u0000�|Q�0��?%s�t<��?\u0007P��$\f�?\u0018�\u001a3���?c�%iܨ�?@i��]��?�<�\u0011�D�?@ �\f���?,�&\u0003Ɔ�?[J��0\u0011�?$���\u0019/�?@��iT��?_�l�Z\u0016�??��iT��?#���\u0019/�?[J��0\u0011�?,�&\u0003Ɔ�?> �\f���?�<�\u0011�D�?>i��]��?a�%iܨ�?\u0014�\u001a3���?\u0002P��$\f�?\u001cs�t<��?�|Q�0��?�\u001a%~����\u0000\u0000\u0000\u0000\u0000\u0000\u0000\u0000.}��;��?�聋\u0006m�?��%+���?F��Ͱ��?�+i>6\u000e�?:��\u001b�\u0013�?[۞�u��?v�B\u0014n(�?�]-f�$�?�5��\u0002��?@��iT��?ۿ�yq��?�{,����?ۿ�yq��?@��iT��?�5��\u0002��?�]-f�$�?u�B\u0014n(�?Z۞�u��?9��\u001b�\u0013�?�+i>6\u000e�?B��Ͱ��?��%+���?�聋\u0006m�?\u0019}��;��?��p��\u0001��\u0000\u0000\u0000\u0000\u0000\u0000\u0000\u0000bT���߾?-}��;��?�S�h\u000f��?%s�t<��?{\u0005Q\u0019)0�?̝cBN;�?�f�\u001d1��?�\u0018���Y�?�s�\n",
      "�Y�?�������?^�l�Z\u0016�?�{,����?+Dk\u0005D\u0002�?�{,����?^�l�Z\u0016�?�������?�s�\n",
      "�Y�?�\u0018���Y�?�f�\u001d1��?˝cBN;�?y\u0005Q\u0019)0�?\"s�t<��?�S�h\u000f��?$}��;��?LT���߾?��u��,��\u0000\u0000\u0000\u0000\u0000\u0000\u0000\u0000-}��;��?�聋\u0006m�?��%+���?F��Ͱ��?�+i>6\u000e�?:��\u001b�\u0013�?Z۞�u��?v�B\u0014n(�?�]-f�$�?�5��\u0002��?@��iT��?ۿ�yq��?�{,����?ۿ�yq��?@��iT��?�5��\u0002��?�]-f�$�?u�B\u0014n(�?Z۞�u��?9��\u001b�\u0013�?�+i>6\u000e�?B��Ͱ��?��%+���?�聋\u0006m�?\u0019}��;��?��p��\u0001��\u0000\u0000\u0000\u0000\u0000\u0000\u0000\u0000�|Q�0��?%s�t<��?\u0006P��$\f�?\u0018�\u001a3���?c�%iܨ�?>i��]��?�<�\u0011�D�?> �\f���?,�&\u0003Ɔ�?[J��0\u0011�?$���\u0019/�?@��iT��?_�l�Z\u0016�??��iT��?#���\u0019/�?[J��0\u0011�?,�&\u0003Ɔ�?> �\f���?�<�\u0011�D�?>i��]��?a�%iܨ�?\u0014�\u001a3���?\u0002P��$\f�?\u001cs�t<��?�|Q�0��?�\u001a%~����\u0000\u0000\u0000\u0000\u0000\u0000\u0000\u0000\u001ei�&=޼?�u�\u000f[��?̝cBN;�?��6�,��?\u001b���\u0001�?�\u000e�_\u0019��?\"��h�?m��\u0000B��?�\fH�\t��?�w[����?ZJ��0\u0011�?�5��\u0002��?�������?�5��\u0002��?[J��0\u0011�?�w[����?�\fH�\t��?l��\u0000B��?!��h�?�\u000e�_\u0019��?\u001a���\u0001�?��6�,��?ȝcBN;�?�u�\u000f[��?\u000bi�&=޼?zc\u000b�a���\u0000\u0000\u0000\u0000\u0000\u0000\u0000\u0000�n���V�?\u0000�X�~#�?l\u001c��5\u001b�?�\u0018���Y�??��M�\u001a�?\u0000�\u001bd���?��kNq8�?��M��T�?��\u0013�X\u001a�?�\fH�\t��?,�&\u0003Ɔ�?�]-f�$�?�s�\n",
      "�Y�?�]-f�$�?,�&\u0003Ɔ�?�\fH�\t��?��\u0013�X\u001a�?��M��T�?��kNq8�?��\u001bd���?>��M�\u001a�?�\u0018���Y�?i\u001c��5\u001b�?��X�~#�?�n���V�?�N�3X���\u0000\u0000\u0000\u0000\u0000\u0000\u0000\u0000��\u001f�h�?Zz��R9�?��\"\u0004\u000e��?g)Oy�}�?�������?���<+y�?��q�)��?\u0010��߇��?��M��T�?l��\u0000B��?> �\f���?t�B\u0014n(�?�\u0018���Y�?t�B\u0014n(�?= �\f���?k��\u0000B��?��M��T�?\u0010��߇��?��q�)��?���<+y�?�������?e)Oy�}�?��\"\u0004\u000e��?Rz��R9�?Ґ�\u001f�h�?��\u0010��\u0012��\u0000\u0000\u0000\u0000\u0000\u0000\u0000\u0000��=\u0012 \u001c�?���t���?'�:V#��?j���TF�?֬\u0016W_:�?�{,����?qi\u0016�A��?��q�)��?��kNq8�?!��h�?�<�\u0011�D�?Z۞�u��?�f�\u001d1��?Y۞�u��?�<�\u0011�D�?!��h�?��kNq8�?��q�)��?qi\u0016�A��?�{,����?Ӭ\u0016W_:�?g���TF�?$�:V#��?���t���?�=\u0012 \u001c�?:L���X��\u0000\u0000\u0000\u0000\u0000\u0000\u0000\u0000}���:y�?�ܨ�\u0003S�?B�#:�\u001d�?�M\u00024ӻ�?�\\u\u000b6\u001f�?�=�y�(�?�{,����?���<+y�?��\u001bd���?�\u000e�_\u0019��?=i��]��?8��\u001b�\u0013�?˝cBN;�?9��\u001b�\u0013�?=i��]��?�\u000e�_\u0019��?��\u001bd���?���<+y�?�{,����?�=�y�(�?�\\u\u000b6\u001f�?�M\u00024ӻ�??�#:�\u001d�?�ܨ�\u0003S�?p���:y�?�L)�����\u0000\u0000\u0000\u0000\u0000\u0000\u0000\u0000�3\u0014�牱?�\t:*+i�?��7�c��?<½����?��kV\u0000��?�\\u\u000b6\u001f�?լ\u0016W_:�?�������?>��M�\u001a�?\u0018���\u0001�?a�%iܨ�?�+i>6\u000e�?y\u0005Q\u0019)0�?�+i>6\u000e�?`�%iܨ�?\u0018���\u0001�?>��M�\u001a�?�������?Ӭ\u0016W_:�?�\\u\u000b6\u001f�?��kV\u0000��?:½����?��7�c��?�\t:*+i�?�3\u0014�牱�\u001fO�T��\u0000\u0000\u0000\u0000\u0000\u0000\u0000\u0000IN4\u00157��?�A2*�|�?\u0007��s�\u001a�?�\u0005\u000b㽨�?;½����?�M\u00024ӻ�?g���TF�?e)Oy�}�?�\u0018���Y�?��6�,��?\u0012�\u001a3���?A��Ͱ��?!s�t<��?A��Ͱ��?\u0013�\u001a3���?��6�,��?�\u0018���Y�?c)Oy�}�?g���TF�?�M\u00024ӻ�?;½����?�\u0005\u000b㽨�?\u0004��s�\u001a�?�A2*�|�?9N4\u00157��?�\\��U���\u0000\u0000\u0000\u0000\u0000\u0000\u0000\u0000r\u001b<�~�?��I\u001d���?�B�٭\u001a�?\u0005��s�\u001a�?��7�c��??�#:�\u001d�?&�:V#��?��\"\u0004\u000e��?h\u001c��5\u001b�?ȝcBN;�?\u0003P��$\f�?��%+���?�S�h\u000f��?��%+���?\u0001P��$\f�?ȝcBN;�?h\u001c��5\u001b�?��\"\u0004\u000e��?%�:V#��?>�#:�\u001d�?��7�c��?\u0003��s�\u001a�?�B�٭\u001a�?��I\u001d���?f\u001b<�~�?\u000e\u0015\u001cM�o��\u0000\u0000\u0000\u0000\u0000\u0000\u0000\u0000���J\u0012��?#��\u0001�V�?��I\u001d���?�A2*�|�?�\t:*+i�?�ܨ�\u0003S�?���t���?Sz��R9�?��X�~#�?�u�\u000f[��?\u001bs�t<��?�聋\u0006m�?#}��;��?�聋\u0006m�?\u001bs�t<��?�u�\u000f[��?��X�~#�?Rz��R9�?���t���?�ܨ�\u0003S�?�\t:*+i�?�A2*�|�?��I\u001d���?\u001c��\u0001�V�?���J\u0012��?��T0^/��\u0000\u0000\u0000\u0000\u0000\u0000\u0000\u0000�\u001e2M�ō?���J\u0012��?h\u001b<�~�?9N4\u00157��?�3\u0014�牱?p���:y�?�=\u0012 \u001c�?Ґ�\u001f�h�?�n���V�?\n",
      "i�&=޼?�|Q�0��?\u0017}��;��?JT���߾?\u0017}��;��?�|Q�0��?\u000bi�&=޼?�n���V�?Ӑ�\u001f�h�?�=\u0012 \u001c�?p���:y�?�3\u0014�牱?8N4\u00157��?d\u001b<�~�?���J\u0012��?�\u001e2M�ō?ZG��\u0014Y��\u0000\u0000\u0000\u0000\u0000\u0000\u0000�ZG��\u0014Y����T0^/��\f\u0015\u001cM�o���\\��U���\u001fO�T���L)�����9L���X����\u0010��\u0012���N�3X���zc\u000b�a����\u001a%~������p��\u0001����u��,����p��\u0001���\u001a%~����zc\u000b�a����N�3X�����\u0010��\u0012��:L���X���L)�����\u001fO�T���\\��U���\u000e\u0015\u001cM�o����T0^/��ZG��\u0014Y����Ȁ9"
     ]
    }
   ],
   "source": [
    "!cd ./solution && make clean && make io && echo \"Compilation Successful!\" && mpiexec -np 4 ./laplace_mpi_io 27 500 Jacobi > convergence_io.txt\n",
    "!cd ./solution && tail -20 convergence_io.txt \n",
    "!cat laplace-soln-whole"
   ]
  },
  {
   "cell_type": "markdown",
   "metadata": {},
   "source": [
    "MPI-IO only supports unformatted binary files, so you will need to interpret the unformatted data by whichever tools you like. (MATLAB is my go-to for this task.)"
   ]
  },
  {
   "cell_type": "markdown",
   "metadata": {},
   "source": [
    "## 4. Profile with mpiP\n",
    "There are many profilers available for profiling MPI codes. We use mpiP in this workshop in favour of its simplicity, light weight and portability as it is built on PMPI instrumentation."
   ]
  },
  {
   "cell_type": "markdown",
   "metadata": {},
   "source": []
  }
 ],
 "metadata": {
  "interpreter": {
   "hash": "767d51c1340bd893661ea55ea3124f6de3c7a262a8b4abca0554b478b1e2ff90"
  },
  "kernelspec": {
   "display_name": "Python 3.9.12 64-bit",
   "language": "python",
   "name": "python3"
  },
  "language_info": {
   "codemirror_mode": {
    "name": "ipython",
    "version": 3
   },
   "file_extension": ".py",
   "mimetype": "text/x-python",
   "name": "python",
   "nbconvert_exporter": "python",
   "pygments_lexer": "ipython3",
   "version": "3.9.12"
  },
  "orig_nbformat": 4
 },
 "nbformat": 4,
 "nbformat_minor": 2
}
